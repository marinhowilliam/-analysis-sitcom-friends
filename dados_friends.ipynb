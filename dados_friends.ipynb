{
  "nbformat": 4,
  "nbformat_minor": 0,
  "metadata": {
    "colab": {
      "provenance": [],
      "authorship_tag": "ABX9TyMiKaGtzeH4in7D1fU3lN3X",
      "include_colab_link": true
    },
    "kernelspec": {
      "name": "python3",
      "display_name": "Python 3"
    },
    "language_info": {
      "name": "python"
    }
  },
  "cells": [
    {
      "cell_type": "markdown",
      "metadata": {
        "id": "view-in-github",
        "colab_type": "text"
      },
      "source": [
        "<a href=\"https://colab.research.google.com/github/marinhowilliam/-analysis-sitcom-friends/blob/main/dados_friends.ipynb\" target=\"_parent\"><img src=\"https://colab.research.google.com/assets/colab-badge.svg\" alt=\"Open In Colab\"/></a>"
      ]
    },
    {
      "cell_type": "code",
      "execution_count": 5,
      "metadata": {
        "id": "mr6Q0hEJKO4K"
      },
      "outputs": [],
      "source": [
        "#importando biblioteca\n",
        "\n",
        "import pandas as pd\n",
        "\n",
        "#graficos\n",
        "\n",
        "import matplotlib.pyplot as plt\n",
        "plt.style.use('ggplot')"
      ]
    },
    {
      "cell_type": "code",
      "source": [
        "#carregando dataset\n",
        "\n",
        "df = pd.read_csv('/content/friends_episodes_v2.csv')"
      ],
      "metadata": {
        "id": "uab81x2JLcV9"
      },
      "execution_count": 2,
      "outputs": []
    },
    {
      "cell_type": "markdown",
      "source": [],
      "metadata": {
        "id": "7K3wwDM6YK2q"
      }
    },
    {
      "cell_type": "code",
      "source": [
        "#lendo dados\n",
        "\n",
        "df.head() #cabeçalho"
      ],
      "metadata": {
        "colab": {
          "base_uri": "https://localhost:8080/",
          "height": 206
        },
        "id": "1zuNzYu8ecQo",
        "outputId": "4765030f-98a5-43ed-b011-f426fba862e6"
      },
      "execution_count": 4,
      "outputs": [
        {
          "output_type": "execute_result",
          "data": {
            "text/plain": [
              "   Year_of_prod  Season                                   Episode_Title  \\\n",
              "0          1994       1            The One with the Sonogram at the End   \n",
              "1          1994       1                          The One with the Thumb   \n",
              "2          1994       1              The One with George Stephanopoulos   \n",
              "3          1994       1  The One with the East German Laundry Detergent   \n",
              "4          1994       1                           The One with the Butt   \n",
              "\n",
              "   Duration                                            Summary  \\\n",
              "0        22  Ross finds out his ex-wife is pregnant. Rachel...   \n",
              "1        22  Monica becomes irritated when everyone likes h...   \n",
              "2        22  Joey and Chandler take Ross to a hockey game t...   \n",
              "3        22  Eager to spend time with Rachel, Ross pretends...   \n",
              "4        22  Monica's obsessiveness is put to the test afte...   \n",
              "\n",
              "         Director  Stars  Votes  \n",
              "0   James Burrows    8.1   4888  \n",
              "1   James Burrows    8.2   4605  \n",
              "2   James Burrows    8.1   4468  \n",
              "3   Pamela Fryman    8.5   4438  \n",
              "4  Arlene Sanford    8.1   4274  "
            ],
            "text/html": [
              "\n",
              "  <div id=\"df-73daa9ba-8171-478c-88f8-381f9aa12243\">\n",
              "    <div class=\"colab-df-container\">\n",
              "      <div>\n",
              "<style scoped>\n",
              "    .dataframe tbody tr th:only-of-type {\n",
              "        vertical-align: middle;\n",
              "    }\n",
              "\n",
              "    .dataframe tbody tr th {\n",
              "        vertical-align: top;\n",
              "    }\n",
              "\n",
              "    .dataframe thead th {\n",
              "        text-align: right;\n",
              "    }\n",
              "</style>\n",
              "<table border=\"1\" class=\"dataframe\">\n",
              "  <thead>\n",
              "    <tr style=\"text-align: right;\">\n",
              "      <th></th>\n",
              "      <th>Year_of_prod</th>\n",
              "      <th>Season</th>\n",
              "      <th>Episode_Title</th>\n",
              "      <th>Duration</th>\n",
              "      <th>Summary</th>\n",
              "      <th>Director</th>\n",
              "      <th>Stars</th>\n",
              "      <th>Votes</th>\n",
              "    </tr>\n",
              "  </thead>\n",
              "  <tbody>\n",
              "    <tr>\n",
              "      <th>0</th>\n",
              "      <td>1994</td>\n",
              "      <td>1</td>\n",
              "      <td>The One with the Sonogram at the End</td>\n",
              "      <td>22</td>\n",
              "      <td>Ross finds out his ex-wife is pregnant. Rachel...</td>\n",
              "      <td>James Burrows</td>\n",
              "      <td>8.1</td>\n",
              "      <td>4888</td>\n",
              "    </tr>\n",
              "    <tr>\n",
              "      <th>1</th>\n",
              "      <td>1994</td>\n",
              "      <td>1</td>\n",
              "      <td>The One with the Thumb</td>\n",
              "      <td>22</td>\n",
              "      <td>Monica becomes irritated when everyone likes h...</td>\n",
              "      <td>James Burrows</td>\n",
              "      <td>8.2</td>\n",
              "      <td>4605</td>\n",
              "    </tr>\n",
              "    <tr>\n",
              "      <th>2</th>\n",
              "      <td>1994</td>\n",
              "      <td>1</td>\n",
              "      <td>The One with George Stephanopoulos</td>\n",
              "      <td>22</td>\n",
              "      <td>Joey and Chandler take Ross to a hockey game t...</td>\n",
              "      <td>James Burrows</td>\n",
              "      <td>8.1</td>\n",
              "      <td>4468</td>\n",
              "    </tr>\n",
              "    <tr>\n",
              "      <th>3</th>\n",
              "      <td>1994</td>\n",
              "      <td>1</td>\n",
              "      <td>The One with the East German Laundry Detergent</td>\n",
              "      <td>22</td>\n",
              "      <td>Eager to spend time with Rachel, Ross pretends...</td>\n",
              "      <td>Pamela Fryman</td>\n",
              "      <td>8.5</td>\n",
              "      <td>4438</td>\n",
              "    </tr>\n",
              "    <tr>\n",
              "      <th>4</th>\n",
              "      <td>1994</td>\n",
              "      <td>1</td>\n",
              "      <td>The One with the Butt</td>\n",
              "      <td>22</td>\n",
              "      <td>Monica's obsessiveness is put to the test afte...</td>\n",
              "      <td>Arlene Sanford</td>\n",
              "      <td>8.1</td>\n",
              "      <td>4274</td>\n",
              "    </tr>\n",
              "  </tbody>\n",
              "</table>\n",
              "</div>\n",
              "      <button class=\"colab-df-convert\" onclick=\"convertToInteractive('df-73daa9ba-8171-478c-88f8-381f9aa12243')\"\n",
              "              title=\"Convert this dataframe to an interactive table.\"\n",
              "              style=\"display:none;\">\n",
              "        \n",
              "  <svg xmlns=\"http://www.w3.org/2000/svg\" height=\"24px\"viewBox=\"0 0 24 24\"\n",
              "       width=\"24px\">\n",
              "    <path d=\"M0 0h24v24H0V0z\" fill=\"none\"/>\n",
              "    <path d=\"M18.56 5.44l.94 2.06.94-2.06 2.06-.94-2.06-.94-.94-2.06-.94 2.06-2.06.94zm-11 1L8.5 8.5l.94-2.06 2.06-.94-2.06-.94L8.5 2.5l-.94 2.06-2.06.94zm10 10l.94 2.06.94-2.06 2.06-.94-2.06-.94-.94-2.06-.94 2.06-2.06.94z\"/><path d=\"M17.41 7.96l-1.37-1.37c-.4-.4-.92-.59-1.43-.59-.52 0-1.04.2-1.43.59L10.3 9.45l-7.72 7.72c-.78.78-.78 2.05 0 2.83L4 21.41c.39.39.9.59 1.41.59.51 0 1.02-.2 1.41-.59l7.78-7.78 2.81-2.81c.8-.78.8-2.07 0-2.86zM5.41 20L4 18.59l7.72-7.72 1.47 1.35L5.41 20z\"/>\n",
              "  </svg>\n",
              "      </button>\n",
              "      \n",
              "  <style>\n",
              "    .colab-df-container {\n",
              "      display:flex;\n",
              "      flex-wrap:wrap;\n",
              "      gap: 12px;\n",
              "    }\n",
              "\n",
              "    .colab-df-convert {\n",
              "      background-color: #E8F0FE;\n",
              "      border: none;\n",
              "      border-radius: 50%;\n",
              "      cursor: pointer;\n",
              "      display: none;\n",
              "      fill: #1967D2;\n",
              "      height: 32px;\n",
              "      padding: 0 0 0 0;\n",
              "      width: 32px;\n",
              "    }\n",
              "\n",
              "    .colab-df-convert:hover {\n",
              "      background-color: #E2EBFA;\n",
              "      box-shadow: 0px 1px 2px rgba(60, 64, 67, 0.3), 0px 1px 3px 1px rgba(60, 64, 67, 0.15);\n",
              "      fill: #174EA6;\n",
              "    }\n",
              "\n",
              "    [theme=dark] .colab-df-convert {\n",
              "      background-color: #3B4455;\n",
              "      fill: #D2E3FC;\n",
              "    }\n",
              "\n",
              "    [theme=dark] .colab-df-convert:hover {\n",
              "      background-color: #434B5C;\n",
              "      box-shadow: 0px 1px 3px 1px rgba(0, 0, 0, 0.15);\n",
              "      filter: drop-shadow(0px 1px 2px rgba(0, 0, 0, 0.3));\n",
              "      fill: #FFFFFF;\n",
              "    }\n",
              "  </style>\n",
              "\n",
              "      <script>\n",
              "        const buttonEl =\n",
              "          document.querySelector('#df-73daa9ba-8171-478c-88f8-381f9aa12243 button.colab-df-convert');\n",
              "        buttonEl.style.display =\n",
              "          google.colab.kernel.accessAllowed ? 'block' : 'none';\n",
              "\n",
              "        async function convertToInteractive(key) {\n",
              "          const element = document.querySelector('#df-73daa9ba-8171-478c-88f8-381f9aa12243');\n",
              "          const dataTable =\n",
              "            await google.colab.kernel.invokeFunction('convertToInteractive',\n",
              "                                                     [key], {});\n",
              "          if (!dataTable) return;\n",
              "\n",
              "          const docLinkHtml = 'Like what you see? Visit the ' +\n",
              "            '<a target=\"_blank\" href=https://colab.research.google.com/notebooks/data_table.ipynb>data table notebook</a>'\n",
              "            + ' to learn more about interactive tables.';\n",
              "          element.innerHTML = '';\n",
              "          dataTable['output_type'] = 'display_data';\n",
              "          await google.colab.output.renderOutput(dataTable, element);\n",
              "          const docLink = document.createElement('div');\n",
              "          docLink.innerHTML = docLinkHtml;\n",
              "          element.appendChild(docLink);\n",
              "        }\n",
              "      </script>\n",
              "    </div>\n",
              "  </div>\n",
              "  "
            ]
          },
          "metadata": {},
          "execution_count": 4
        }
      ]
    },
    {
      "cell_type": "code",
      "source": [
        "#nome das colunas\n",
        "\n",
        "df.columns"
      ],
      "metadata": {
        "colab": {
          "base_uri": "https://localhost:8080/"
        },
        "id": "ZDVC6YHifsHk",
        "outputId": "99cebb8b-ce54-4d33-831d-df9607fd11a3"
      },
      "execution_count": null,
      "outputs": [
        {
          "output_type": "execute_result",
          "data": {
            "text/plain": [
              "Index(['Year_of_prod', 'Season', 'Episode_Title', 'Duration', 'Summary',\n",
              "       'Director', 'Stars', 'Votes'],\n",
              "      dtype='object')"
            ]
          },
          "metadata": {},
          "execution_count": 15
        }
      ]
    },
    {
      "cell_type": "code",
      "source": [
        "df.shape"
      ],
      "metadata": {
        "colab": {
          "base_uri": "https://localhost:8080/"
        },
        "id": "V_mEVbF-f9iV",
        "outputId": "b741f638-852f-46ed-b869-461882e9d639"
      },
      "execution_count": null,
      "outputs": [
        {
          "output_type": "execute_result",
          "data": {
            "text/plain": [
              "(235, 8)"
            ]
          },
          "metadata": {},
          "execution_count": 16
        }
      ]
    },
    {
      "cell_type": "code",
      "source": [
        "display(df) #mostrar as 5 primeiras linhas e as 5 ultimas"
      ],
      "metadata": {
        "colab": {
          "base_uri": "https://localhost:8080/",
          "height": 423
        },
        "id": "cxIONIfKNdy8",
        "outputId": "d4015c25-525a-43d4-cf98-6ff558ce2ccf"
      },
      "execution_count": 8,
      "outputs": [
        {
          "output_type": "display_data",
          "data": {
            "text/plain": [
              "     Year_of_prod  Season                                   Episode_Title  \\\n",
              "0            1994       1            The One with the Sonogram at the End   \n",
              "1            1994       1                          The One with the Thumb   \n",
              "2            1994       1              The One with George Stephanopoulos   \n",
              "3            1994       1  The One with the East German Laundry Detergent   \n",
              "4            1994       1                           The One with the Butt   \n",
              "..            ...     ...                                             ...   \n",
              "230          2004      10                  The One with Princess Consuela   \n",
              "231          2004      10                      The One Where Estelle Dies   \n",
              "232          2004      10          The One with Rachel's Going Away Party   \n",
              "233          2004      10                                    The Last One   \n",
              "234          2004      10                                    The Last One   \n",
              "\n",
              "     Duration                                            Summary  \\\n",
              "0          22  Ross finds out his ex-wife is pregnant. Rachel...   \n",
              "1          22  Monica becomes irritated when everyone likes h...   \n",
              "2          22  Joey and Chandler take Ross to a hockey game t...   \n",
              "3          22  Eager to spend time with Rachel, Ross pretends...   \n",
              "4          22  Monica's obsessiveness is put to the test afte...   \n",
              "..        ...                                                ...   \n",
              "230        22  When Phoebe goes to get her name changed she r...   \n",
              "231        22  Ross tries to get Rachel to go back to Ralph L...   \n",
              "232        22  The gang throws Rachel a goodbye party, during...   \n",
              "233        30  Erica gives birth to the baby that Monica and ...   \n",
              "234        30  Phoebe races Ross to the airport in a bid to s...   \n",
              "\n",
              "           Director  Stars  Votes  \n",
              "0     James Burrows    8.1   4888  \n",
              "1     James Burrows    8.2   4605  \n",
              "2     James Burrows    8.1   4468  \n",
              "3     Pamela Fryman    8.5   4438  \n",
              "4    Arlene Sanford    8.1   4274  \n",
              "..              ...    ...    ...  \n",
              "230  Gary Halvorson    8.6   2989  \n",
              "231  Gary Halvorson    8.5   2771  \n",
              "232  Gary Halvorson    8.9   3141  \n",
              "233    Kevin Bright    9.5   6221  \n",
              "234    Kevin Bright    9.7  10381  \n",
              "\n",
              "[235 rows x 8 columns]"
            ],
            "text/html": [
              "\n",
              "  <div id=\"df-98e171fc-17e8-4cc4-9c51-3f3b0ad136de\">\n",
              "    <div class=\"colab-df-container\">\n",
              "      <div>\n",
              "<style scoped>\n",
              "    .dataframe tbody tr th:only-of-type {\n",
              "        vertical-align: middle;\n",
              "    }\n",
              "\n",
              "    .dataframe tbody tr th {\n",
              "        vertical-align: top;\n",
              "    }\n",
              "\n",
              "    .dataframe thead th {\n",
              "        text-align: right;\n",
              "    }\n",
              "</style>\n",
              "<table border=\"1\" class=\"dataframe\">\n",
              "  <thead>\n",
              "    <tr style=\"text-align: right;\">\n",
              "      <th></th>\n",
              "      <th>Year_of_prod</th>\n",
              "      <th>Season</th>\n",
              "      <th>Episode_Title</th>\n",
              "      <th>Duration</th>\n",
              "      <th>Summary</th>\n",
              "      <th>Director</th>\n",
              "      <th>Stars</th>\n",
              "      <th>Votes</th>\n",
              "    </tr>\n",
              "  </thead>\n",
              "  <tbody>\n",
              "    <tr>\n",
              "      <th>0</th>\n",
              "      <td>1994</td>\n",
              "      <td>1</td>\n",
              "      <td>The One with the Sonogram at the End</td>\n",
              "      <td>22</td>\n",
              "      <td>Ross finds out his ex-wife is pregnant. Rachel...</td>\n",
              "      <td>James Burrows</td>\n",
              "      <td>8.1</td>\n",
              "      <td>4888</td>\n",
              "    </tr>\n",
              "    <tr>\n",
              "      <th>1</th>\n",
              "      <td>1994</td>\n",
              "      <td>1</td>\n",
              "      <td>The One with the Thumb</td>\n",
              "      <td>22</td>\n",
              "      <td>Monica becomes irritated when everyone likes h...</td>\n",
              "      <td>James Burrows</td>\n",
              "      <td>8.2</td>\n",
              "      <td>4605</td>\n",
              "    </tr>\n",
              "    <tr>\n",
              "      <th>2</th>\n",
              "      <td>1994</td>\n",
              "      <td>1</td>\n",
              "      <td>The One with George Stephanopoulos</td>\n",
              "      <td>22</td>\n",
              "      <td>Joey and Chandler take Ross to a hockey game t...</td>\n",
              "      <td>James Burrows</td>\n",
              "      <td>8.1</td>\n",
              "      <td>4468</td>\n",
              "    </tr>\n",
              "    <tr>\n",
              "      <th>3</th>\n",
              "      <td>1994</td>\n",
              "      <td>1</td>\n",
              "      <td>The One with the East German Laundry Detergent</td>\n",
              "      <td>22</td>\n",
              "      <td>Eager to spend time with Rachel, Ross pretends...</td>\n",
              "      <td>Pamela Fryman</td>\n",
              "      <td>8.5</td>\n",
              "      <td>4438</td>\n",
              "    </tr>\n",
              "    <tr>\n",
              "      <th>4</th>\n",
              "      <td>1994</td>\n",
              "      <td>1</td>\n",
              "      <td>The One with the Butt</td>\n",
              "      <td>22</td>\n",
              "      <td>Monica's obsessiveness is put to the test afte...</td>\n",
              "      <td>Arlene Sanford</td>\n",
              "      <td>8.1</td>\n",
              "      <td>4274</td>\n",
              "    </tr>\n",
              "    <tr>\n",
              "      <th>...</th>\n",
              "      <td>...</td>\n",
              "      <td>...</td>\n",
              "      <td>...</td>\n",
              "      <td>...</td>\n",
              "      <td>...</td>\n",
              "      <td>...</td>\n",
              "      <td>...</td>\n",
              "      <td>...</td>\n",
              "    </tr>\n",
              "    <tr>\n",
              "      <th>230</th>\n",
              "      <td>2004</td>\n",
              "      <td>10</td>\n",
              "      <td>The One with Princess Consuela</td>\n",
              "      <td>22</td>\n",
              "      <td>When Phoebe goes to get her name changed she r...</td>\n",
              "      <td>Gary Halvorson</td>\n",
              "      <td>8.6</td>\n",
              "      <td>2989</td>\n",
              "    </tr>\n",
              "    <tr>\n",
              "      <th>231</th>\n",
              "      <td>2004</td>\n",
              "      <td>10</td>\n",
              "      <td>The One Where Estelle Dies</td>\n",
              "      <td>22</td>\n",
              "      <td>Ross tries to get Rachel to go back to Ralph L...</td>\n",
              "      <td>Gary Halvorson</td>\n",
              "      <td>8.5</td>\n",
              "      <td>2771</td>\n",
              "    </tr>\n",
              "    <tr>\n",
              "      <th>232</th>\n",
              "      <td>2004</td>\n",
              "      <td>10</td>\n",
              "      <td>The One with Rachel's Going Away Party</td>\n",
              "      <td>22</td>\n",
              "      <td>The gang throws Rachel a goodbye party, during...</td>\n",
              "      <td>Gary Halvorson</td>\n",
              "      <td>8.9</td>\n",
              "      <td>3141</td>\n",
              "    </tr>\n",
              "    <tr>\n",
              "      <th>233</th>\n",
              "      <td>2004</td>\n",
              "      <td>10</td>\n",
              "      <td>The Last One</td>\n",
              "      <td>30</td>\n",
              "      <td>Erica gives birth to the baby that Monica and ...</td>\n",
              "      <td>Kevin Bright</td>\n",
              "      <td>9.5</td>\n",
              "      <td>6221</td>\n",
              "    </tr>\n",
              "    <tr>\n",
              "      <th>234</th>\n",
              "      <td>2004</td>\n",
              "      <td>10</td>\n",
              "      <td>The Last One</td>\n",
              "      <td>30</td>\n",
              "      <td>Phoebe races Ross to the airport in a bid to s...</td>\n",
              "      <td>Kevin Bright</td>\n",
              "      <td>9.7</td>\n",
              "      <td>10381</td>\n",
              "    </tr>\n",
              "  </tbody>\n",
              "</table>\n",
              "<p>235 rows × 8 columns</p>\n",
              "</div>\n",
              "      <button class=\"colab-df-convert\" onclick=\"convertToInteractive('df-98e171fc-17e8-4cc4-9c51-3f3b0ad136de')\"\n",
              "              title=\"Convert this dataframe to an interactive table.\"\n",
              "              style=\"display:none;\">\n",
              "        \n",
              "  <svg xmlns=\"http://www.w3.org/2000/svg\" height=\"24px\"viewBox=\"0 0 24 24\"\n",
              "       width=\"24px\">\n",
              "    <path d=\"M0 0h24v24H0V0z\" fill=\"none\"/>\n",
              "    <path d=\"M18.56 5.44l.94 2.06.94-2.06 2.06-.94-2.06-.94-.94-2.06-.94 2.06-2.06.94zm-11 1L8.5 8.5l.94-2.06 2.06-.94-2.06-.94L8.5 2.5l-.94 2.06-2.06.94zm10 10l.94 2.06.94-2.06 2.06-.94-2.06-.94-.94-2.06-.94 2.06-2.06.94z\"/><path d=\"M17.41 7.96l-1.37-1.37c-.4-.4-.92-.59-1.43-.59-.52 0-1.04.2-1.43.59L10.3 9.45l-7.72 7.72c-.78.78-.78 2.05 0 2.83L4 21.41c.39.39.9.59 1.41.59.51 0 1.02-.2 1.41-.59l7.78-7.78 2.81-2.81c.8-.78.8-2.07 0-2.86zM5.41 20L4 18.59l7.72-7.72 1.47 1.35L5.41 20z\"/>\n",
              "  </svg>\n",
              "      </button>\n",
              "      \n",
              "  <style>\n",
              "    .colab-df-container {\n",
              "      display:flex;\n",
              "      flex-wrap:wrap;\n",
              "      gap: 12px;\n",
              "    }\n",
              "\n",
              "    .colab-df-convert {\n",
              "      background-color: #E8F0FE;\n",
              "      border: none;\n",
              "      border-radius: 50%;\n",
              "      cursor: pointer;\n",
              "      display: none;\n",
              "      fill: #1967D2;\n",
              "      height: 32px;\n",
              "      padding: 0 0 0 0;\n",
              "      width: 32px;\n",
              "    }\n",
              "\n",
              "    .colab-df-convert:hover {\n",
              "      background-color: #E2EBFA;\n",
              "      box-shadow: 0px 1px 2px rgba(60, 64, 67, 0.3), 0px 1px 3px 1px rgba(60, 64, 67, 0.15);\n",
              "      fill: #174EA6;\n",
              "    }\n",
              "\n",
              "    [theme=dark] .colab-df-convert {\n",
              "      background-color: #3B4455;\n",
              "      fill: #D2E3FC;\n",
              "    }\n",
              "\n",
              "    [theme=dark] .colab-df-convert:hover {\n",
              "      background-color: #434B5C;\n",
              "      box-shadow: 0px 1px 3px 1px rgba(0, 0, 0, 0.15);\n",
              "      filter: drop-shadow(0px 1px 2px rgba(0, 0, 0, 0.3));\n",
              "      fill: #FFFFFF;\n",
              "    }\n",
              "  </style>\n",
              "\n",
              "      <script>\n",
              "        const buttonEl =\n",
              "          document.querySelector('#df-98e171fc-17e8-4cc4-9c51-3f3b0ad136de button.colab-df-convert');\n",
              "        buttonEl.style.display =\n",
              "          google.colab.kernel.accessAllowed ? 'block' : 'none';\n",
              "\n",
              "        async function convertToInteractive(key) {\n",
              "          const element = document.querySelector('#df-98e171fc-17e8-4cc4-9c51-3f3b0ad136de');\n",
              "          const dataTable =\n",
              "            await google.colab.kernel.invokeFunction('convertToInteractive',\n",
              "                                                     [key], {});\n",
              "          if (!dataTable) return;\n",
              "\n",
              "          const docLinkHtml = 'Like what you see? Visit the ' +\n",
              "            '<a target=\"_blank\" href=https://colab.research.google.com/notebooks/data_table.ipynb>data table notebook</a>'\n",
              "            + ' to learn more about interactive tables.';\n",
              "          element.innerHTML = '';\n",
              "          dataTable['output_type'] = 'display_data';\n",
              "          await google.colab.output.renderOutput(dataTable, element);\n",
              "          const docLink = document.createElement('div');\n",
              "          docLink.innerHTML = docLinkHtml;\n",
              "          element.appendChild(docLink);\n",
              "        }\n",
              "      </script>\n",
              "    </div>\n",
              "  </div>\n",
              "  "
            ]
          },
          "metadata": {}
        }
      ]
    },
    {
      "cell_type": "code",
      "source": [
        "#analisando dados\n",
        "\n",
        "_=plt.hist(df.Duration) #media de duracao dos episodios"
      ],
      "metadata": {
        "colab": {
          "base_uri": "https://localhost:8080/",
          "height": 430
        },
        "id": "YpVgxwJHgHhQ",
        "outputId": "a702fd72-5ba4-4080-923a-f45976fa0049"
      },
      "execution_count": null,
      "outputs": [
        {
          "output_type": "display_data",
          "data": {
            "text/plain": [
              "<Figure size 640x480 with 1 Axes>"
            ],
            "image/png": "[encoded data removed]"
          },
          "metadata": {}
        }
      ]
    },
    {
      "cell_type": "code",
      "source": [
        "# Stars = nota do episodio no IMDB\n",
        "# media das notas\n",
        "\n",
        "nota = df['Stars'].sum()\n",
        "div = nota/235\n",
        "print(f'nota media que os episodios da serie obteve: {div:.1f}')"
      ],
      "metadata": {
        "colab": {
          "base_uri": "https://localhost:8080/"
        },
        "id": "eV1yh4rcMvsp",
        "outputId": "7f378b34-226c-4af1-c910-8572671ecde9"
      },
      "execution_count": 23,
      "outputs": [
        {
          "output_type": "stream",
          "name": "stdout",
          "text": [
            "nota media que os episodios da serie obteve: 8.5\n"
          ]
        }
      ]
    },
    {
      "cell_type": "code",
      "source": [
        "# notas referente a quantidade de episodios\n",
        "\n",
        "df.Stars.value_counts().plot.bar()"
      ],
      "metadata": {
        "colab": {
          "base_uri": "https://localhost:8080/",
          "height": 455
        },
        "id": "as5ap-MtRXwg",
        "outputId": "1c2923fd-e8f5-47bb-f8b5-206dafb6c53c"
      },
      "execution_count": 24,
      "outputs": [
        {
          "output_type": "execute_result",
          "data": {
            "text/plain": [
              "<Axes: >"
            ]
          },
          "metadata": {},
          "execution_count": 24
        },
        {
          "output_type": "display_data",
          "data": {
            "text/plain": [
              "<Figure size 640x480 with 1 Axes>"
            ],
            "image/png": "[encoded data removed]"
          },
          "metadata": {}
        }
      ]
    },
    {
      "cell_type": "code",
      "source": [
        "#diretores que mais dirigiram episodios\n",
        "\n",
        "df.Director.value_counts()"
      ],
      "metadata": {
        "colab": {
          "base_uri": "https://localhost:8080/"
        },
        "id": "7UD31SLkhmk2",
        "outputId": "a148a2eb-d2fb-4311-e6bc-482d9f2028e1"
      },
      "execution_count": null,
      "outputs": [
        {
          "output_type": "execute_result",
          "data": {
            "text/plain": [
              "Gary Halvorson          54\n",
              "Kevin Bright            54\n",
              "Michael Lembeck         24\n",
              "James Burrows           14\n",
              "Gail Mancuso            14\n",
              "Peter Bonerz            12\n",
              "Ben Weiss               10\n",
              "David Schwimmer         10\n",
              "Shelley Jensen           6\n",
              "Robby Benson             6\n",
              "Terry Hughes             5\n",
              "Dana De Vally Piazza     3\n",
              "Sheldon Epps             3\n",
              "Alan Myerson             2\n",
              "Thomas Schlamme          2\n",
              "Roger Christiansen       2\n",
              "Pamela Fryman            2\n",
              "Steve Zuckerman          2\n",
              "Ellen Gittelsohn         1\n",
              "Sam Simon                1\n",
              "David Steinberg          1\n",
              "Joe Regalbuto            1\n",
              "Andrew Tsao              1\n",
              "Todd Holland             1\n",
              "Paul Lazarus             1\n",
              "Arlene Sanford           1\n",
              "Stephen Prime            1\n",
              "Mary Kay Place           1\n",
              "Name: Director, dtype: int64"
            ]
          },
          "metadata": {},
          "execution_count": 25
        }
      ]
    },
    {
      "cell_type": "code",
      "source": [
        "#numero de episodios gravados entre 1996 e 2004 do maior para o menor.\n",
        "\n",
        "df.Year_of_prod.value_counts().plot.bar()"
      ],
      "metadata": {
        "colab": {
          "base_uri": "https://localhost:8080/",
          "height": 468
        },
        "id": "EIB_w80Jicbc",
        "outputId": "794cbeca-db98-4b85-ba1e-6dfc4d181f20"
      },
      "execution_count": null,
      "outputs": [
        {
          "output_type": "execute_result",
          "data": {
            "text/plain": [
              "<Axes: >"
            ]
          },
          "metadata": {},
          "execution_count": 30
        },
        {
          "output_type": "display_data",
          "data": {
            "text/plain": [
              "<Figure size 640x480 with 1 Axes>"
            ],
            "image/png": "[encoded data removed]"
          },
          "metadata": {}
        }
      ]
    },
    {
      "cell_type": "code",
      "source": [],
      "metadata": {
        "id": "gv0qaFAAjF3j"
      },
      "execution_count": null,
      "outputs": []
    }
  ]
}